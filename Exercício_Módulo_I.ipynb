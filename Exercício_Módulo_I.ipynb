{
  "nbformat": 4,
  "nbformat_minor": 0,
  "metadata": {
    "colab": {
      "provenance": [],
      "authorship_tag": "ABX9TyNPDztLStoSX1iSTs6/vrgt",
      "include_colab_link": true
    },
    "kernelspec": {
      "name": "python3",
      "display_name": "Python 3"
    },
    "language_info": {
      "name": "python"
    }
  },
  "cells": [
    {
      "cell_type": "markdown",
      "metadata": {
        "id": "view-in-github",
        "colab_type": "text"
      },
      "source": [
        "<a href=\"https://colab.research.google.com/github/webviny360/projeto-site/blob/master/Exerc%C3%ADcio_M%C3%B3dulo_I.ipynb\" target=\"_parent\"><img src=\"https://colab.research.google.com/assets/colab-badge.svg\" alt=\"Open In Colab\"/></a>"
      ]
    },
    {
      "cell_type": "markdown",
      "source": [
        "###Que tal praticar?\n",
        "Agora, você fará a primeira parte do seu primeiro projeto! Como disse o professor Rodrigo, não há uma forma fixa: o importante é que seu código siga uma sequência lógica e tenha, ao menos, os critérios abaixo, ok?\n",
        "\n",
        "Passo a passo:\n",
        "\n",
        "* Utilize o comando 'input' para receber ao menos 2 números de entrada do usuário;\n",
        "\n",
        "* Converta os valores recebidos pelo usuário para número inteiro (int) ou ponto flutuante (float);\n",
        "\n",
        "* Implemente ao menos 4 operações matemáticas em seu código;\n",
        "\n",
        "* Adicione um laço de repetição ou uma condicional. Por exemplo: você pode permitir que o usuário escolha qual operação realizar ou criar um loop que permita ao usuário realizar várias operações consecutivas;\n",
        "\n",
        "* Utilize o comando 'print' para exibir o resultado da operação matemática."
      ],
      "metadata": {
        "id": "WJInN1AQRaTN"
      }
    },
    {
      "cell_type": "code",
      "source": [
        "while True:\n",
        "    # Solicita ao usuário que insira dois números e converte para float para permitir números decimais\n",
        "    num1 = float(input(\"Digite o primeiro número: \"))\n",
        "    num2 = float(input(\"Digite o segundo número: \"))\n",
        "\n",
        "    # Apresenta as opções de operação disponíveis para o usuário\n",
        "    print(\"Escolha a operação:\")\n",
        "    print(\"1. Soma\")\n",
        "    print(\"2. Subtração\")\n",
        "    print(\"3. Multiplicação\")\n",
        "    print(\"4. Divisão\")\n",
        "    print(\"5. Sair\")\n",
        "\n",
        "    # Obtém a opção escolhida pelo usuário e converte para inteiro\n",
        "    opcao = int(input(\"Digite o número da operação: \"))\n",
        "\n",
        "    # Estrutura condicional para realizar a operação escolhida\n",
        "    if opcao == 1:\n",
        "        # Realiza a soma e exibe o resultado\n",
        "        resultado = num1 + num2\n",
        "        print(\"Resultado da soma:\", resultado)\n",
        "    elif opcao == 2:\n",
        "        # Realiza a subtração e exibe o resultado\n",
        "        resultado = num1 - num2\n",
        "        print(\"Resultado da subtração:\", resultado)\n",
        "    elif opcao == 3:\n",
        "        # Realiza a multiplicação e exibe o resultado\n",
        "        resultado = num1 * num2\n",
        "        print(\"Resultado da multiplicação:\", resultado)\n",
        "    elif opcao == 4:\n",
        "        # Verifica se o divisor é zero para evitar erro de divisão por zero\n",
        "        if num2 == 0:\n",
        "            print(\"Divisão por zero não é permitida.\")\n",
        "        else:\n",
        "            # Realiza a divisão e exibe o resultado\n",
        "            resultado = num1 / num2\n",
        "            print(\"Resultado da divisão:\", resultado)\n",
        "    elif opcao == 5:\n",
        "        # Interrompe o loop quando o usuário escolhe sair\n",
        "        print(\"Você optou por sair\")\n",
        "        break\n",
        "    else:\n",
        "        # Exibe uma mensagem de erro para opções inválidas\n",
        "        print(\"Opção inválida. Por favor, escolha uma opção entre 1 e 5.\")"
      ],
      "metadata": {
        "colab": {
          "base_uri": "https://localhost:8080/"
        },
        "id": "-kG_7GE3Omfv",
        "outputId": "f1ac1f76-f7b2-4428-a376-82659e6cc9ca"
      },
      "execution_count": null,
      "outputs": [
        {
          "output_type": "stream",
          "name": "stdout",
          "text": [
            "Digite o primeiro número: 5\n",
            "Digite o segundo número: 10\n",
            "Escolha a operação:\n",
            "1. Soma\n",
            "2. Subtração\n",
            "3. Multiplicação\n",
            "4. Divisão\n",
            "5. Sair\n",
            "Digite o número da operação: 1\n",
            "Resultado da soma: 15.0\n",
            "Digite o primeiro número: 30\n",
            "Digite o segundo número: 50\n",
            "Escolha a operação:\n",
            "1. Soma\n",
            "2. Subtração\n",
            "3. Multiplicação\n",
            "4. Divisão\n",
            "5. Sair\n",
            "Digite o número da operação: 5\n",
            "Você optou por sair\n"
          ]
        }
      ]
    }
  ]
}